{
 "cells": [
  {
   "cell_type": "code",
   "execution_count": 1,
   "id": "ea8dea72-434d-4c2f-bde9-5c565a35e13f",
   "metadata": {},
   "outputs": [],
   "source": [
    "import os\n",
    "import pathlib\n",
    "import site"
   ]
  },
  {
   "cell_type": "code",
   "execution_count": 2,
   "id": "b3d4245a-8eed-4003-8cdf-3f8ca5a426f2",
   "metadata": {},
   "outputs": [],
   "source": [
    "import cv2\n",
    "import numpy as np"
   ]
  },
  {
   "cell_type": "code",
   "execution_count": 3,
   "id": "2946ac9a-f26a-4bcb-b0cd-fa7e8447f4f4",
   "metadata": {},
   "outputs": [],
   "source": [
    "from pytorch_lightning import Trainer, seed_everything"
   ]
  },
  {
   "cell_type": "code",
   "execution_count": 4,
   "id": "0de5c649-31a5-4b29-9494-2c70449b918d",
   "metadata": {},
   "outputs": [
    {
     "name": "stderr",
     "output_type": "stream",
     "text": [
      "OpenVINO is not installed. Please install OpenVINO to use OpenVINOInferencer.\n",
      "OpenVINO is not installed. Please install OpenVINO to use OpenVINOInferencer.\n"
     ]
    },
    {
     "name": "stdout",
     "output_type": "stream",
     "text": [
      "To use wandb logger install it using `pip install wandb`\n"
     ]
    }
   ],
   "source": [
    "from anomalib.config import get_configurable_parameters\n",
    "from anomalib.data import get_datamodule\n",
    "from anomalib.models import get_model\n",
    "from anomalib.utils.callbacks import LoadModelCallback, get_callbacks"
   ]
  },
  {
   "cell_type": "code",
   "execution_count": 5,
   "id": "8072e1e7-6018-4ec8-a352-72bd341d0176",
   "metadata": {},
   "outputs": [],
   "source": [
    "from evaluator import Evaluator"
   ]
  },
  {
   "cell_type": "markdown",
   "id": "4718198f-f472-4b18-98cf-c5d3dbc9d8ce",
   "metadata": {},
   "source": [
    "## Config"
   ]
  },
  {
   "cell_type": "code",
   "execution_count": 6,
   "id": "66ba1f8b-a490-4194-a7f5-a1de8c066dae",
   "metadata": {},
   "outputs": [
    {
     "name": "stderr",
     "output_type": "stream",
     "text": [
      "/root/work/anomalib/config/config.py:280: UserWarning: config.project.unique_dir is set to False. This does not ensure that your results will be written in an empty directory and you may overwrite files.\n",
      "  warn(\n"
     ]
    }
   ],
   "source": [
    "\"\"\"\n",
    "SET MODEL NAME\n",
    "\"\"\"\n",
    "model_name = \"padim\"\n",
    "config_path = f\"./anomalib/models/{model_name}/config.yaml\"\n",
    "config = get_configurable_parameters(model_name=model_name, config_path=config_path)"
   ]
  },
  {
   "cell_type": "code",
   "execution_count": 7,
   "id": "f3a4c648-da07-4088-aa1f-e1de87d5a37b",
   "metadata": {},
   "outputs": [
    {
     "data": {
      "text/plain": [
       "{'name': 'mvtec',\n",
       " 'format': 'mvtec',\n",
       " 'path': './datasets/MVTec/',\n",
       " 'category': 'bottle',\n",
       " 'task': 'segmentation',\n",
       " 'train_batch_size': 8,\n",
       " 'eval_batch_size': 8,\n",
       " 'num_workers': 0,\n",
       " 'image_size': [256, 256],\n",
       " 'center_crop': None,\n",
       " 'normalization': 'imagenet',\n",
       " 'transform_config': {'train': None, 'eval': None},\n",
       " 'test_split_mode': 'from_dir',\n",
       " 'test_split_ratio': 0.2,\n",
       " 'val_split_mode': 'same_as_test',\n",
       " 'val_split_ratio': 0.5,\n",
       " 'tiling': {'apply': False, 'tile_size': None, 'stride': None, 'remove_border_count': 0, 'use_random_tiling': False, 'random_tile_count': 16}}"
      ]
     },
     "execution_count": 7,
     "metadata": {},
     "output_type": "execute_result"
    }
   ],
   "source": [
    "\"\"\"\n",
    "DATASET SETTING \n",
    "\"\"\"\n",
    "config.dataset.name = \"mvtec\"\n",
    "config.dataset.path = \"./datasets/MVTec/\"\n",
    "config.dataset.category = \"bottle\"\n",
    "\n",
    "config.dataset.train_batch_size = 8\n",
    "config.dataset.eval_batch_size = 8\n",
    "config.dataset.num_workers = 0\n",
    "\n",
    "# config.dataset.image_size =  [384, 384]\n",
    "\n",
    "dict(config.dataset)"
   ]
  },
  {
   "cell_type": "code",
   "execution_count": 8,
   "id": "c05c5bb6-aee4-4be2-8ef1-5882cbe6f1bb",
   "metadata": {},
   "outputs": [
    {
     "data": {
      "text/plain": [
       "{'logger': [], 'log_graph': False}"
      ]
     },
     "execution_count": 8,
     "metadata": {},
     "output_type": "execute_result"
    }
   ],
   "source": [
    "dict(config.logging)"
   ]
  },
  {
   "cell_type": "code",
   "execution_count": 9,
   "id": "53ef298c-8804-4229-a4d8-8239d3640a28",
   "metadata": {},
   "outputs": [
    {
     "data": {
      "text/plain": [
       "{'image': ['F1Score', 'AUROC'],\n",
       " 'pixel': [],\n",
       " 'threshold': {'method': 'adaptive', 'manual_image': None, 'manual_pixel': None}}"
      ]
     },
     "execution_count": 9,
     "metadata": {},
     "output_type": "execute_result"
    }
   ],
   "source": [
    "config.metrics.pixel = []\n",
    "\n",
    "dict(config.metrics)"
   ]
  },
  {
   "cell_type": "code",
   "execution_count": 10,
   "id": "95e2d3a0-b3fc-4d9b-bd19-7cb942e7801d",
   "metadata": {},
   "outputs": [
    {
     "data": {
      "text/plain": [
       "{'name': 'padim',\n",
       " 'backbone': 'resnet18',\n",
       " 'pre_trained': True,\n",
       " 'layers': ['layer1.-1', 'layer2.-1', 'layer3.-1'],\n",
       " 'normalization_method': 'min_max',\n",
       " 'input_size': [256, 256],\n",
       " 'n_features': 100}"
      ]
     },
     "execution_count": 10,
     "metadata": {},
     "output_type": "execute_result"
    }
   ],
   "source": [
    "\"\"\"\n",
    "MODEL SETTING\n",
    "\n",
    "REF: https://github.com/JohnnyHopp/PaDiM-EfficientNetV2/blob/master/main.py\n",
    "\"\"\"\n",
    "config.model.backbone = \"resnet18\"\n",
    "config.model.layers = ['layer1.-1', 'layer2.-1', 'layer3.-1']\n",
    "config.model.n_features = 100\n",
    "\n",
    "# config.model.backbone = \"wide_resnet50_2\"\n",
    "# config.model.layers = ['layer1.-1', 'layer2.-1', 'layer3.-1']\n",
    "# config.model.n_features = 550\n",
    "\n",
    "# config.model.backbone = \"tf_efficientnet_b5_ns\"\n",
    "# config.model.layers = ['blocks.1.-1', 'blocks.3.-1', 'blocks.4.-1']\n",
    "# config.model.n_features = 100\n",
    "\n",
    "# config.model.backbone = \"tf_efficientnet_b7_ns\"\n",
    "# config.model.layers = ['blocks.1.-1', 'blocks.3.-1', 'blocks.4.-1']\n",
    "# config.model.n_features = 100\n",
    "\n",
    "# config.model.backbone = \"tf_efficientnetv2_m_in21k\"\n",
    "# config.model.layers = ['blocks.2.-1', 'blocks.3.-1', 'blocks.4.-1']\n",
    "# config.model.n_features = 400\n",
    "\n",
    "# config.model.backbone = \"convnext_base_in22ft1k\"\n",
    "# config.model.layers = ['stages_0.blocks.-1', 'stages_1.blocks.-1', 'stages_2.blocks.-1']\n",
    "# config.model.n_features = 600\n",
    "# config.model.input_size =  [384, 384]\n",
    "\n",
    "dict(config.model)"
   ]
  },
  {
   "cell_type": "code",
   "execution_count": 11,
   "id": "06623637-e7d6-43a9-a858-0811678458e5",
   "metadata": {},
   "outputs": [
    {
     "data": {
      "text/plain": [
       "{'export_mode': None}"
      ]
     },
     "execution_count": 11,
     "metadata": {},
     "output_type": "execute_result"
    }
   ],
   "source": [
    "dict(config.optimization)"
   ]
  },
  {
   "cell_type": "code",
   "execution_count": 12,
   "id": "db09cbbb-ef6b-40d2-b7ca-7a92fd05e9a4",
   "metadata": {},
   "outputs": [
    {
     "data": {
      "text/plain": [
       "{'seed': 42,\n",
       " 'path': './results/bottle_padim_resnet18_n100',\n",
       " 'unique_dir': False}"
      ]
     },
     "execution_count": 12,
     "metadata": {},
     "output_type": "execute_result"
    }
   ],
   "source": [
    "config.project.path = f\"./results/{config.dataset.category}_{model_name}_{config.model.backbone}_n{config.model.n_features}\"\n",
    "\n",
    "dict(config.project)"
   ]
  },
  {
   "cell_type": "code",
   "execution_count": 13,
   "id": "7423e004-b128-491f-9796-846144ad2274",
   "metadata": {},
   "outputs": [
    {
     "data": {
      "text/plain": [
       "{'enable_checkpointing': True,\n",
       " 'default_root_dir': './results/bottle_padim_resnet18_n100',\n",
       " 'gradient_clip_val': 0,\n",
       " 'gradient_clip_algorithm': 'norm',\n",
       " 'num_nodes': 1,\n",
       " 'devices': 1,\n",
       " 'enable_progress_bar': True,\n",
       " 'overfit_batches': 0.0,\n",
       " 'track_grad_norm': -1,\n",
       " 'check_val_every_n_epoch': 1,\n",
       " 'fast_dev_run': False,\n",
       " 'accumulate_grad_batches': 1,\n",
       " 'max_epochs': 1,\n",
       " 'min_epochs': None,\n",
       " 'max_steps': -1,\n",
       " 'min_steps': None,\n",
       " 'max_time': None,\n",
       " 'limit_train_batches': 1.0,\n",
       " 'limit_val_batches': 1.0,\n",
       " 'limit_test_batches': 1.0,\n",
       " 'limit_predict_batches': 1.0,\n",
       " 'val_check_interval': 1.0,\n",
       " 'log_every_n_steps': 50,\n",
       " 'accelerator': 'auto',\n",
       " 'strategy': None,\n",
       " 'sync_batchnorm': False,\n",
       " 'precision': 32,\n",
       " 'enable_model_summary': True,\n",
       " 'num_sanity_val_steps': 0,\n",
       " 'profiler': None,\n",
       " 'benchmark': False,\n",
       " 'deterministic': False,\n",
       " 'reload_dataloaders_every_n_epochs': 0,\n",
       " 'auto_lr_find': False,\n",
       " 'replace_sampler_ddp': True,\n",
       " 'detect_anomaly': False,\n",
       " 'auto_scale_batch_size': False,\n",
       " 'plugins': None,\n",
       " 'move_metrics_to_cpu': False,\n",
       " 'multiple_trainloader_mode': 'max_size_cycle'}"
      ]
     },
     "execution_count": 13,
     "metadata": {},
     "output_type": "execute_result"
    }
   ],
   "source": [
    "config.trainer.default_root_dir = f\"./results/{config.dataset.category}_{model_name}_{config.model.backbone}_n{config.model.n_features}\"\n",
    "\n",
    "dict(config.trainer)"
   ]
  },
  {
   "cell_type": "code",
   "execution_count": 14,
   "id": "7011cf62-e591-40b5-8e0a-7ea63d6dec35",
   "metadata": {},
   "outputs": [
    {
     "data": {
      "text/plain": [
       "{'show_images': False,\n",
       " 'save_images': True,\n",
       " 'log_images': True,\n",
       " 'image_save_path': None,\n",
       " 'mode': 'full'}"
      ]
     },
     "execution_count": 14,
     "metadata": {},
     "output_type": "execute_result"
    }
   ],
   "source": [
    "dict(config.visualization)"
   ]
  },
  {
   "cell_type": "markdown",
   "id": "4dbd7e52-d89b-418c-9cb5-a3d2ce21bb18",
   "metadata": {},
   "source": [
    "## Generate Fake Mask"
   ]
  },
  {
   "cell_type": "code",
   "execution_count": 15,
   "id": "135bb57c-b16c-424d-974f-6120da2929c5",
   "metadata": {},
   "outputs": [],
   "source": [
    "# test_dir_path = f\"{config.dataset.path}{config.dataset.category}/test/\"\n",
    "# ground_truth_dir_path = f\"{config.dataset.path}{config.dataset.category}/ground_truth/\"\n",
    "# bad_labels = [d for d in os.listdir(test_dir_path) if os.path.isdir(os.path.join(test_dir_path, d)) and d != 'good']\n",
    "\n",
    "# for bad_label in bad_labels:\n",
    "#     current_test_dir_path = f\"{test_dir_path}/{bad_label}/\"\n",
    "#     current_ground_truth_dir_path = f\"{ground_truth_dir_path}/{bad_label}/\"\n",
    "#     img_labels = [f for f in os.listdir(current_test_dir_path) if os.path.isfile(os.path.join(current_test_dir_path, f))]\n",
    "\n",
    "#     if not os.path.exists(current_ground_truth_dir_path):\n",
    "#         os.makedirs(current_ground_truth_dir_path)\n",
    "        \n",
    "#     for img_label in img_labels:\n",
    "#         test_img_path = f\"{current_test_dir_path}{img_label}\"\n",
    "#         test_img = cv2.imread(test_img_path, cv2.IMREAD_GRAYSCALE)\n",
    "        \n",
    "#         black_img = np.zeros(test_img.shape, dtype=np.uint8)\n",
    "        \n",
    "#         black_img_path = f\"{current_ground_truth_dir_path}{img_label}\"\n",
    "#         cv2.imwrite(black_img_path, black_img)"
   ]
  },
  {
   "cell_type": "markdown",
   "id": "87241646-97fc-4aae-b39d-972b14c12864",
   "metadata": {},
   "source": [
    "## Train"
   ]
  },
  {
   "cell_type": "code",
   "execution_count": 16,
   "id": "281f3e24-1f09-4548-bcc3-32b0784ee5db",
   "metadata": {},
   "outputs": [
    {
     "name": "stderr",
     "output_type": "stream",
     "text": [
      "/usr/local/lib/python3.10/dist-packages/torchmetrics/utilities/prints.py:36: UserWarning: Metric `PrecisionRecallCurve` will save all targets and predictions in buffer. For large datasets this may lead to large memory footprint.\n",
      "  warnings.warn(*args, **kwargs)\n",
      "/root/work/anomalib/utils/callbacks/__init__.py:142: UserWarning: Export option: None not found. Defaulting to no model export\n",
      "  warnings.warn(f\"Export option: {config.optimization.export_mode} not found. Defaulting to no model export\")\n"
     ]
    }
   ],
   "source": [
    "datamodule = get_datamodule(config)\n",
    "model = get_model(config)\n",
    "callbacks = get_callbacks(config)"
   ]
  },
  {
   "cell_type": "code",
   "execution_count": 17,
   "id": "5610570b-ff12-4578-97b3-a1162ba7c07b",
   "metadata": {},
   "outputs": [
    {
     "name": "stderr",
     "output_type": "stream",
     "text": [
      "GPU available: True (cuda), used: True\n",
      "TPU available: False, using: 0 TPU cores\n",
      "IPU available: False, using: 0 IPUs\n",
      "HPU available: False, using: 0 HPUs\n",
      "/usr/local/lib/python3.10/dist-packages/pytorch_lightning/trainer/connectors/logger_connector/logger_connector.py:67: UserWarning: Starting from v1.9.0, `tensorboardX` has been removed as a dependency of the `pytorch_lightning` package, due to potential conflicts with other packages in the ML ecosystem. For this reason, `logger=True` will use `CSVLogger` as the default logger, unless the `tensorboard` or `tensorboardX` packages are found. Please `pip install lightning[extra]` or one of them to enable TensorBoard support by default\n",
      "  warning_cache.warn(\n",
      "`Trainer(limit_train_batches=1.0)` was configured so 100% of the batches per epoch will be used..\n",
      "`Trainer(limit_val_batches=1.0)` was configured so 100% of the batches will be used..\n",
      "`Trainer(limit_test_batches=1.0)` was configured so 100% of the batches will be used..\n",
      "`Trainer(limit_predict_batches=1.0)` was configured so 100% of the batches will be used..\n",
      "`Trainer(val_check_interval=1.0)` was configured so validation will run at the end of the training epoch..\n",
      "You are using a CUDA device ('NVIDIA GeForce RTX 4080') that has Tensor Cores. To properly utilize them, you should set `torch.set_float32_matmul_precision('medium' | 'high')` which will trade-off precision for performance. For more details, read https://pytorch.org/docs/stable/generated/torch.set_float32_matmul_precision.html#torch.set_float32_matmul_precision\n",
      "/usr/local/lib/python3.10/dist-packages/torchmetrics/utilities/prints.py:36: UserWarning: Metric `ROC` will save all targets and predictions in buffer. For large datasets this may lead to large memory footprint.\n",
      "  warnings.warn(*args, **kwargs)\n",
      "/usr/local/lib/python3.10/dist-packages/pytorch_lightning/callbacks/model_checkpoint.py:613: UserWarning: Checkpoint directory /root/work/results/bottle_padim_resnet18_n100/weights/lightning exists and is not empty.\n",
      "  rank_zero_warn(f\"Checkpoint directory {dirpath} exists and is not empty.\")\n",
      "LOCAL_RANK: 0 - CUDA_VISIBLE_DEVICES: [0]\n",
      "/usr/local/lib/python3.10/dist-packages/pytorch_lightning/core/optimizer.py:183: UserWarning: `LightningModule.configure_optimizers` returned `None`, this fit will run with no optimizer\n",
      "  rank_zero_warn(\n",
      "\n",
      "  | Name                  | Type                     | Params\n",
      "-------------------------------------------------------------------\n",
      "0 | image_threshold       | AnomalyScoreThreshold    | 0     \n",
      "1 | pixel_threshold       | AnomalyScoreThreshold    | 0     \n",
      "2 | model                 | PadimModel               | 11.2 M\n",
      "3 | image_metrics         | AnomalibMetricCollection | 0     \n",
      "4 | pixel_metrics         | AnomalibMetricCollection | 0     \n",
      "5 | normalization_metrics | MinMax                   | 0     \n",
      "-------------------------------------------------------------------\n",
      "11.2 M    Trainable params\n",
      "0         Non-trainable params\n",
      "11.2 M    Total params\n",
      "44.706    Total estimated model params size (MB)\n",
      "/usr/local/lib/python3.10/dist-packages/pytorch_lightning/trainer/connectors/data_connector.py:224: PossibleUserWarning: The dataloader, train_dataloader, does not have many workers which may be a bottleneck. Consider increasing the value of the `num_workers` argument` (try 24 which is the number of cpus on this machine) in the `DataLoader` init to improve performance.\n",
      "  rank_zero_warn(\n",
      "/usr/local/lib/python3.10/dist-packages/pytorch_lightning/trainer/trainer.py:1609: PossibleUserWarning: The number of training batches (27) is smaller than the logging interval Trainer(log_every_n_steps=50). Set a lower value for log_every_n_steps if you want to see logs for the training epoch.\n",
      "  rank_zero_warn(\n",
      "/usr/local/lib/python3.10/dist-packages/pytorch_lightning/trainer/connectors/data_connector.py:224: PossibleUserWarning: The dataloader, val_dataloader 0, does not have many workers which may be a bottleneck. Consider increasing the value of the `num_workers` argument` (try 24 which is the number of cpus on this machine) in the `DataLoader` init to improve performance.\n",
      "  rank_zero_warn(\n"
     ]
    },
    {
     "data": {
      "application/vnd.jupyter.widget-view+json": {
       "model_id": "473371746ecb4edfac6c99a0ccc99b1e",
       "version_major": 2,
       "version_minor": 0
      },
      "text/plain": [
       "Training: 0it [00:00, ?it/s]"
      ]
     },
     "metadata": {},
     "output_type": "display_data"
    },
    {
     "name": "stderr",
     "output_type": "stream",
     "text": [
      "/usr/local/lib/python3.10/dist-packages/pytorch_lightning/loops/optimization/optimizer_loop.py:138: UserWarning: `training_step` returned `None`. If this was on purpose, ignore this warning...\n",
      "  self.warning_cache.warn(\"`training_step` returned `None`. If this was on purpose, ignore this warning...\")\n"
     ]
    },
    {
     "data": {
      "application/vnd.jupyter.widget-view+json": {
       "model_id": "",
       "version_major": 2,
       "version_minor": 0
      },
      "text/plain": [
       "Validation: 0it [00:00, ?it/s]"
      ]
     },
     "metadata": {},
     "output_type": "display_data"
    },
    {
     "name": "stderr",
     "output_type": "stream",
     "text": [
      "`Trainer.fit` stopped: `max_epochs=1` reached.\n"
     ]
    }
   ],
   "source": [
    "trainer = Trainer(**config.trainer, callbacks=callbacks)\n",
    "trainer.fit(model=model, datamodule=datamodule)"
   ]
  },
  {
   "cell_type": "markdown",
   "id": "dfe222e3-fecb-48fa-9d29-2f0f44a36a7b",
   "metadata": {},
   "source": [
    "# Test"
   ]
  },
  {
   "cell_type": "code",
   "execution_count": 18,
   "id": "bd8c8841-98a5-4009-a144-ead62ecde665",
   "metadata": {},
   "outputs": [
    {
     "data": {
      "text/plain": [
       "'/root/work/results/bottle_padim_resnet18_n100/weights/lightning/model-v33.ckpt'"
      ]
     },
     "execution_count": 18,
     "metadata": {},
     "output_type": "execute_result"
    }
   ],
   "source": [
    "weight_file_path = trainer.checkpoint_callback.best_model_path\n",
    "weight_file_path"
   ]
  },
  {
   "cell_type": "code",
   "execution_count": 19,
   "id": "5021f1e8-c057-4c51-ac94-9fa8b6c0a633",
   "metadata": {},
   "outputs": [
    {
     "name": "stderr",
     "output_type": "stream",
     "text": [
      "You are using a CUDA device ('NVIDIA GeForce RTX 4080') that has Tensor Cores. To properly utilize them, you should set `torch.set_float32_matmul_precision('medium' | 'high')` which will trade-off precision for performance. For more details, read https://pytorch.org/docs/stable/generated/torch.set_float32_matmul_precision.html#torch.set_float32_matmul_precision\n",
      "LOCAL_RANK: 0 - CUDA_VISIBLE_DEVICES: [0]\n",
      "/usr/local/lib/python3.10/dist-packages/pytorch_lightning/trainer/connectors/data_connector.py:224: PossibleUserWarning: The dataloader, test_dataloader 0, does not have many workers which may be a bottleneck. Consider increasing the value of the `num_workers` argument` (try 24 which is the number of cpus on this machine) in the `DataLoader` init to improve performance.\n",
      "  rank_zero_warn(\n"
     ]
    },
    {
     "data": {
      "application/vnd.jupyter.widget-view+json": {
       "model_id": "35827c6d316b434f8fc3df41e9a28e07",
       "version_major": 2,
       "version_minor": 0
      },
      "text/plain": [
       "Testing: 0it [00:00, ?it/s]"
      ]
     },
     "metadata": {},
     "output_type": "display_data"
    },
    {
     "name": "stderr",
     "output_type": "stream",
     "text": [
      "/root/work/anomalib/utils/callbacks/min_max_normalization.py:67: FutureWarning: The behavior of DataFrame concatenation with empty or all-NA entries is deprecated. In a future version, this will no longer exclude empty or all-NA columns when determining the result dtypes. To retain the old behavior, exclude the relevant entries before the concat operation.\n",
      "  self.__df = pd.concat([self.__df, new_rows], ignore_index=True)\n"
     ]
    },
    {
     "name": "stdout",
     "output_type": "stream",
     "text": [
      "────────────────────────────────────────────────────────────────────────────────────────────────────────────────────────\n",
      "       Test metric             DataLoader 0\n",
      "────────────────────────────────────────────────────────────────────────────────────────────────────────────────────────\n",
      "       image_AUROC          0.9944444894790649\n",
      "      image_F1Score         0.9921259880065918\n",
      "────────────────────────────────────────────────────────────────────────────────────────────────────────────────────────\n"
     ]
    }
   ],
   "source": [
    "load_model_callback = LoadModelCallback(weights_path=weight_file_path)\n",
    "trainer.callbacks.insert(0, load_model_callback)\n",
    "\n",
    "res=trainer.test(model=model, datamodule=datamodule)"
   ]
  },
  {
   "cell_type": "markdown",
   "id": "4a85914c-f810-4fc7-8860-b4fceaaed933",
   "metadata": {},
   "source": [
    "## Check"
   ]
  },
  {
   "cell_type": "code",
   "execution_count": 20,
   "id": "5aeafcc0-c472-46f6-bab9-43f0d4749f4f",
   "metadata": {},
   "outputs": [],
   "source": [
    "# model.model"
   ]
  },
  {
   "cell_type": "code",
   "execution_count": 21,
   "id": "b0001695-e848-48c6-9650-45479e3813f5",
   "metadata": {},
   "outputs": [
    {
     "data": {
      "text/plain": [
       "'max: 48.802703857421875'"
      ]
     },
     "metadata": {},
     "output_type": "display_data"
    },
    {
     "data": {
      "text/plain": [
       "'min: 0.08813149482011795'"
      ]
     },
     "metadata": {},
     "output_type": "display_data"
    },
    {
     "data": {
      "text/plain": [
       "'threshold: 16.479888916015625'"
      ]
     },
     "metadata": {},
     "output_type": "display_data"
    },
    {
     "data": {
      "text/html": [
       "<div>\n",
       "<style scoped>\n",
       "    .dataframe tbody tr th:only-of-type {\n",
       "        vertical-align: middle;\n",
       "    }\n",
       "\n",
       "    .dataframe tbody tr th {\n",
       "        vertical-align: top;\n",
       "    }\n",
       "\n",
       "    .dataframe thead th {\n",
       "        text-align: right;\n",
       "    }\n",
       "</style>\n",
       "<table border=\"1\" class=\"dataframe\">\n",
       "  <thead>\n",
       "    <tr style=\"text-align: right;\">\n",
       "      <th></th>\n",
       "      <th>image_path</th>\n",
       "      <th>pred</th>\n",
       "      <th>pred_norm</th>\n",
       "      <th>pred_label</th>\n",
       "      <th>label</th>\n",
       "    </tr>\n",
       "  </thead>\n",
       "  <tbody>\n",
       "    <tr>\n",
       "      <th>0</th>\n",
       "      <td>datasets/MVTec/bottle/test/broken_large/000.png</td>\n",
       "      <td>28.595425</td>\n",
       "      <td>0.748705</td>\n",
       "      <td>1</td>\n",
       "      <td>1</td>\n",
       "    </tr>\n",
       "    <tr>\n",
       "      <th>1</th>\n",
       "      <td>datasets/MVTec/bottle/test/broken_large/001.png</td>\n",
       "      <td>29.478123</td>\n",
       "      <td>0.766824</td>\n",
       "      <td>1</td>\n",
       "      <td>1</td>\n",
       "    </tr>\n",
       "    <tr>\n",
       "      <th>2</th>\n",
       "      <td>datasets/MVTec/bottle/test/broken_large/002.png</td>\n",
       "      <td>29.309227</td>\n",
       "      <td>0.763357</td>\n",
       "      <td>1</td>\n",
       "      <td>1</td>\n",
       "    </tr>\n",
       "    <tr>\n",
       "      <th>3</th>\n",
       "      <td>datasets/MVTec/bottle/test/broken_large/003.png</td>\n",
       "      <td>29.624760</td>\n",
       "      <td>0.769834</td>\n",
       "      <td>1</td>\n",
       "      <td>1</td>\n",
       "    </tr>\n",
       "    <tr>\n",
       "      <th>4</th>\n",
       "      <td>datasets/MVTec/bottle/test/broken_large/004.png</td>\n",
       "      <td>30.032738</td>\n",
       "      <td>0.778209</td>\n",
       "      <td>1</td>\n",
       "      <td>1</td>\n",
       "    </tr>\n",
       "  </tbody>\n",
       "</table>\n",
       "</div>"
      ],
      "text/plain": [
       "                                        image_path       pred  pred_norm  \\\n",
       "0  datasets/MVTec/bottle/test/broken_large/000.png  28.595425   0.748705   \n",
       "1  datasets/MVTec/bottle/test/broken_large/001.png  29.478123   0.766824   \n",
       "2  datasets/MVTec/bottle/test/broken_large/002.png  29.309227   0.763357   \n",
       "3  datasets/MVTec/bottle/test/broken_large/003.png  29.624760   0.769834   \n",
       "4  datasets/MVTec/bottle/test/broken_large/004.png  30.032738   0.778209   \n",
       "\n",
       "   pred_label label  \n",
       "0           1     1  \n",
       "1           1     1  \n",
       "2           1     1  \n",
       "3           1     1  \n",
       "4           1     1  "
      ]
     },
     "execution_count": 21,
     "metadata": {},
     "output_type": "execute_result"
    }
   ],
   "source": [
    "preds_holder = callbacks[4].get_preds_holder()\n",
    "evaluator = Evaluator(df=preds_holder.dataframe)\n",
    "\n",
    "display(f\"max: {preds_holder.max}\", f\"min: {preds_holder.min}\", f\"threshold: {preds_holder.threshold}\")\n",
    "preds_holder.dataframe.head()"
   ]
  },
  {
   "cell_type": "code",
   "execution_count": 22,
   "id": "0bd4e107-7121-4149-93ba-56b6186d94bf",
   "metadata": {},
   "outputs": [
    {
     "data": {
      "image/png": "[encoded data removed]",
      "text/plain": [
       "<Figure size 640x480 with 1 Axes>"
      ]
     },
     "metadata": {},
     "output_type": "display_data"
    }
   ],
   "source": [
    "evaluator.show_hist()"
   ]
  },
  {
   "cell_type": "code",
   "execution_count": 23,
   "id": "e8ac48b9-4676-4428-ae22-1a7f2f9f7506",
   "metadata": {},
   "outputs": [
    {
     "data": {
      "image/png": "[encoded data removed]",
      "text/plain": [
       "<Figure size 640x480 with 1 Axes>"
      ]
     },
     "metadata": {},
     "output_type": "display_data"
    }
   ],
   "source": [
    "evaluator.show_pdf()"
   ]
  },
  {
   "cell_type": "code",
   "execution_count": 24,
   "id": "0a04a3ac-b0c2-4b0c-9927-9432fad55617",
   "metadata": {},
   "outputs": [
    {
     "data": {
      "image/png": "[encoded data removed]",
      "text/plain": [
       "<Figure size 640x480 with 2 Axes>"
      ]
     },
     "metadata": {},
     "output_type": "display_data"
    }
   ],
   "source": [
    "evaluator.show_hist_and_pdf()"
   ]
  },
  {
   "cell_type": "code",
   "execution_count": 25,
   "id": "01aca93e-04c5-4478-a1ab-a4dd3f9d54bb",
   "metadata": {},
   "outputs": [
    {
     "name": "stdout",
     "output_type": "stream",
     "text": [
      "layer1.-1 [dim:64, size:64]\n",
      "layer2.-1 [dim:128, size:32]\n",
      "layer3.-1 [dim:256, size:16]\n"
     ]
    }
   ],
   "source": [
    "for layer, dim, size in zip(model.model.layers, model.model.feature_extractor.out_dims, model.model.feature_extractor.out_sizes):\n",
    "    print(f\"{layer} [dim:{dim}, size:{size}]\")"
   ]
  },
  {
   "cell_type": "markdown",
   "id": "0442db5f-9f00-400d-8b2e-1749e9607655",
   "metadata": {},
   "source": [
    "## Appendix"
   ]
  },
  {
   "cell_type": "code",
   "execution_count": 26,
   "id": "d587e870-9410-4996-a041-a09243517192",
   "metadata": {},
   "outputs": [],
   "source": [
    "# import timm"
   ]
  },
  {
   "cell_type": "code",
   "execution_count": 27,
   "id": "dcfe8313-434d-4c93-b3c3-4234bb11156a",
   "metadata": {},
   "outputs": [],
   "source": [
    "# timm.create_model(\n",
    "#     \"efficientnet_b5\",\n",
    "#     pretrained=True,\n",
    "#     features_only=True,\n",
    "#     exportable=True,\n",
    "# )"
   ]
  },
  {
   "cell_type": "code",
   "execution_count": 28,
   "id": "214a92b1-e088-454c-8edd-075223ee8fe9",
   "metadata": {},
   "outputs": [],
   "source": [
    "# timm.list_models(pretrained=True)"
   ]
  },
  {
   "cell_type": "code",
   "execution_count": null,
   "id": "e35b309f-bc98-4af5-b388-d79cfdfeff9f",
   "metadata": {},
   "outputs": [],
   "source": []
  }
 ],
 "metadata": {
  "kernelspec": {
   "display_name": "Python 3 (ipykernel)",
   "language": "python",
   "name": "python3"
  },
  "language_info": {
   "codemirror_mode": {
    "name": "ipython",
    "version": 3
   },
   "file_extension": ".py",
   "mimetype": "text/x-python",
   "name": "python",
   "nbconvert_exporter": "python",
   "pygments_lexer": "ipython3",
   "version": "3.10.12"
  }
 },
 "nbformat": 4,
 "nbformat_minor": 5
}
