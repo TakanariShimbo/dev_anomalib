{
 "cells": [
  {
   "cell_type": "code",
   "execution_count": null,
   "id": "ea8dea72-434d-4c2f-bde9-5c565a35e13f",
   "metadata": {},
   "outputs": [],
   "source": [
    "import os\n",
    "import pathlib\n",
    "import site"
   ]
  },
  {
   "cell_type": "code",
   "execution_count": null,
   "id": "b3d4245a-8eed-4003-8cdf-3f8ca5a426f2",
   "metadata": {},
   "outputs": [],
   "source": [
    "import cv2\n",
    "import numpy as np"
   ]
  },
  {
   "cell_type": "code",
   "execution_count": null,
   "id": "2946ac9a-f26a-4bcb-b0cd-fa7e8447f4f4",
   "metadata": {},
   "outputs": [],
   "source": [
    "from pytorch_lightning import Trainer, seed_everything"
   ]
  },
  {
   "cell_type": "code",
   "execution_count": null,
   "id": "0de5c649-31a5-4b29-9494-2c70449b918d",
   "metadata": {},
   "outputs": [],
   "source": [
    "from anomalib.config import get_configurable_parameters\n",
    "from anomalib.data import get_datamodule\n",
    "from anomalib.models import get_model\n",
    "from anomalib.utils.callbacks import LoadModelCallback, get_callbacks"
   ]
  },
  {
   "cell_type": "code",
   "execution_count": null,
   "id": "8072e1e7-6018-4ec8-a352-72bd341d0176",
   "metadata": {},
   "outputs": [],
   "source": [
    "from evaluator import Evaluator"
   ]
  },
  {
   "cell_type": "markdown",
   "id": "4718198f-f472-4b18-98cf-c5d3dbc9d8ce",
   "metadata": {},
   "source": [
    "## Config"
   ]
  },
  {
   "cell_type": "code",
   "execution_count": null,
   "id": "66ba1f8b-a490-4194-a7f5-a1de8c066dae",
   "metadata": {},
   "outputs": [],
   "source": [
    "\"\"\"\n",
    "SET MODEL NAME\n",
    "\"\"\"\n",
    "model_name = \"padim\"\n",
    "config_path = f\"./anomalib/models/{model_name}/config.yaml\"\n",
    "config = get_configurable_parameters(model_name=model_name, config_path=config_path)"
   ]
  },
  {
   "cell_type": "code",
   "execution_count": null,
   "id": "f3a4c648-da07-4088-aa1f-e1de87d5a37b",
   "metadata": {},
   "outputs": [],
   "source": [
    "\"\"\"\n",
    "DATASET SETTING \n",
    "\"\"\"\n",
    "config.dataset.name = \"mvtec\"\n",
    "config.dataset.path = \"./datasets/MVTec/\"\n",
    "config.dataset.category = \"bottle\"\n",
    "\n",
    "config.dataset.train_batch_size = 8\n",
    "config.dataset.eval_batch_size = 8\n",
    "config.dataset.num_workers = 0\n",
    "\n",
    "# config.dataset.image_size =  [384, 384]\n",
    "\n",
    "dict(config.dataset)"
   ]
  },
  {
   "cell_type": "code",
   "execution_count": null,
   "id": "c05c5bb6-aee4-4be2-8ef1-5882cbe6f1bb",
   "metadata": {},
   "outputs": [],
   "source": [
    "dict(config.logging)"
   ]
  },
  {
   "cell_type": "code",
   "execution_count": null,
   "id": "53ef298c-8804-4229-a4d8-8239d3640a28",
   "metadata": {},
   "outputs": [],
   "source": [
    "config.metrics.pixel = []\n",
    "\n",
    "dict(config.metrics)"
   ]
  },
  {
   "cell_type": "code",
   "execution_count": null,
   "id": "95e2d3a0-b3fc-4d9b-bd19-7cb942e7801d",
   "metadata": {},
   "outputs": [],
   "source": [
    "\"\"\"\n",
    "MODEL SETTING\n",
    "\n",
    "REF: https://github.com/JohnnyHopp/PaDiM-EfficientNetV2/blob/master/main.py\n",
    "\"\"\"\n",
    "config.model.backbone = \"resnet18\"\n",
    "config.model.layers = ['layer1.-1', 'layer2.-1', 'layer3.-1']\n",
    "config.model.n_features = 100\n",
    "\n",
    "# config.model.backbone = \"wide_resnet50_2\"\n",
    "# config.model.layers = ['layer1.-1', 'layer2.-1', 'layer3.-1']\n",
    "# config.model.n_features = 550\n",
    "\n",
    "# config.model.backbone = \"tf_efficientnet_b5_ns\"\n",
    "# config.model.layers = ['blocks.1.-1', 'blocks.3.-1', 'blocks.4.-1']\n",
    "# config.model.n_features = 100\n",
    "\n",
    "# config.model.backbone = \"tf_efficientnet_b7_ns\"\n",
    "# config.model.layers = ['blocks.1.-1', 'blocks.3.-1', 'blocks.4.-1']\n",
    "# config.model.n_features = 100\n",
    "\n",
    "# config.model.backbone = \"tf_efficientnetv2_m_in21k\"\n",
    "# config.model.layers = ['blocks.2.-1', 'blocks.3.-1', 'blocks.4.-1']\n",
    "# config.model.n_features = 400\n",
    "\n",
    "# config.model.backbone = \"convnext_base_in22ft1k\"\n",
    "# config.model.layers = ['stages_0.blocks.-1', 'stages_1.blocks.-1', 'stages_2.blocks.-1']\n",
    "# config.model.n_features = 600\n",
    "# config.model.input_size =  [384, 384]\n",
    "\n",
    "dict(config.model)"
   ]
  },
  {
   "cell_type": "code",
   "execution_count": null,
   "id": "06623637-e7d6-43a9-a858-0811678458e5",
   "metadata": {},
   "outputs": [],
   "source": [
    "dict(config.optimization)"
   ]
  },
  {
   "cell_type": "code",
   "execution_count": null,
   "id": "db09cbbb-ef6b-40d2-b7ca-7a92fd05e9a4",
   "metadata": {},
   "outputs": [],
   "source": [
    "config.project.path = f\"./results/{config.dataset.category}_{model_name}_{config.model.backbone}_n{config.model.n_features}\"\n",
    "\n",
    "dict(config.project)"
   ]
  },
  {
   "cell_type": "code",
   "execution_count": null,
   "id": "7423e004-b128-491f-9796-846144ad2274",
   "metadata": {},
   "outputs": [],
   "source": [
    "config.trainer.default_root_dir = f\"./results/{config.dataset.category}_{model_name}_{config.model.backbone}_n{config.model.n_features}\"\n",
    "\n",
    "dict(config.trainer)"
   ]
  },
  {
   "cell_type": "code",
   "execution_count": null,
   "id": "7011cf62-e591-40b5-8e0a-7ea63d6dec35",
   "metadata": {},
   "outputs": [],
   "source": [
    "dict(config.visualization)"
   ]
  },
  {
   "cell_type": "markdown",
   "id": "4dbd7e52-d89b-418c-9cb5-a3d2ce21bb18",
   "metadata": {},
   "source": [
    "## Generate Fake Mask"
   ]
  },
  {
   "cell_type": "code",
   "execution_count": null,
   "id": "135bb57c-b16c-424d-974f-6120da2929c5",
   "metadata": {},
   "outputs": [],
   "source": [
    "# test_dir_path = f\"{config.dataset.path}{config.dataset.category}/test/\"\n",
    "# ground_truth_dir_path = f\"{config.dataset.path}{config.dataset.category}/ground_truth/\"\n",
    "# bad_labels = [d for d in os.listdir(test_dir_path) if os.path.isdir(os.path.join(test_dir_path, d)) and d != 'good']\n",
    "\n",
    "# for bad_label in bad_labels:\n",
    "#     current_test_dir_path = f\"{test_dir_path}/{bad_label}/\"\n",
    "#     current_ground_truth_dir_path = f\"{ground_truth_dir_path}/{bad_label}/\"\n",
    "#     img_labels = [f for f in os.listdir(current_test_dir_path) if os.path.isfile(os.path.join(current_test_dir_path, f))]\n",
    "\n",
    "#     if not os.path.exists(current_ground_truth_dir_path):\n",
    "#         os.makedirs(current_ground_truth_dir_path)\n",
    "        \n",
    "#     for img_label in img_labels:\n",
    "#         test_img_path = f\"{current_test_dir_path}{img_label}\"\n",
    "#         test_img = cv2.imread(test_img_path, cv2.IMREAD_GRAYSCALE)\n",
    "        \n",
    "#         black_img = np.zeros(test_img.shape, dtype=np.uint8)\n",
    "        \n",
    "#         black_img_path = f\"{current_ground_truth_dir_path}{img_label}\"\n",
    "#         cv2.imwrite(black_img_path, black_img)"
   ]
  },
  {
   "cell_type": "markdown",
   "id": "87241646-97fc-4aae-b39d-972b14c12864",
   "metadata": {},
   "source": [
    "## Train"
   ]
  },
  {
   "cell_type": "code",
   "execution_count": null,
   "id": "281f3e24-1f09-4548-bcc3-32b0784ee5db",
   "metadata": {},
   "outputs": [],
   "source": [
    "datamodule = get_datamodule(config)\n",
    "model = get_model(config)\n",
    "callbacks = get_callbacks(config)"
   ]
  },
  {
   "cell_type": "code",
   "execution_count": null,
   "id": "5610570b-ff12-4578-97b3-a1162ba7c07b",
   "metadata": {},
   "outputs": [],
   "source": [
    "trainer = Trainer(**config.trainer, callbacks=callbacks)\n",
    "trainer.fit(model=model, datamodule=datamodule)"
   ]
  },
  {
   "cell_type": "markdown",
   "id": "dfe222e3-fecb-48fa-9d29-2f0f44a36a7b",
   "metadata": {},
   "source": [
    "# Test"
   ]
  },
  {
   "cell_type": "code",
   "execution_count": null,
   "id": "bd8c8841-98a5-4009-a144-ead62ecde665",
   "metadata": {},
   "outputs": [],
   "source": [
    "weight_file_path = trainer.checkpoint_callback.best_model_path\n",
    "weight_file_path"
   ]
  },
  {
   "cell_type": "code",
   "execution_count": null,
   "id": "5021f1e8-c057-4c51-ac94-9fa8b6c0a633",
   "metadata": {},
   "outputs": [],
   "source": [
    "load_model_callback = LoadModelCallback(weights_path=weight_file_path)\n",
    "trainer.callbacks.insert(0, load_model_callback)\n",
    "\n",
    "res=trainer.test(model=model, datamodule=datamodule)"
   ]
  },
  {
   "cell_type": "markdown",
   "id": "4a85914c-f810-4fc7-8860-b4fceaaed933",
   "metadata": {},
   "source": [
    "## Check"
   ]
  },
  {
   "cell_type": "code",
   "execution_count": null,
   "id": "5aeafcc0-c472-46f6-bab9-43f0d4749f4f",
   "metadata": {},
   "outputs": [],
   "source": [
    "# model.model"
   ]
  },
  {
   "cell_type": "code",
   "execution_count": null,
   "id": "b0001695-e848-48c6-9650-45479e3813f5",
   "metadata": {},
   "outputs": [],
   "source": [
    "preds_holder = callbacks[4].get_preds_holder()\n",
    "evaluator = Evaluator.constrant_using_preds_holder(preds_holder)\n",
    "\n",
    "display(f\"max: {preds_holder.max}\", f\"min: {preds_holder.min}\", f\"threshold: {preds_holder.threshold}\")\n",
    "preds_holder.dataframe.head()"
   ]
  },
  {
   "cell_type": "code",
   "execution_count": null,
   "id": "0bd4e107-7121-4149-93ba-56b6186d94bf",
   "metadata": {},
   "outputs": [],
   "source": [
    "evaluator.show_hist()"
   ]
  },
  {
   "cell_type": "code",
   "execution_count": null,
   "id": "e8ac48b9-4676-4428-ae22-1a7f2f9f7506",
   "metadata": {},
   "outputs": [],
   "source": [
    "evaluator.show_pdf()"
   ]
  },
  {
   "cell_type": "code",
   "execution_count": null,
   "id": "0a04a3ac-b0c2-4b0c-9927-9432fad55617",
   "metadata": {},
   "outputs": [],
   "source": [
    "evaluator.show_hist_and_pdf()"
   ]
  },
  {
   "cell_type": "code",
   "execution_count": null,
   "id": "01aca93e-04c5-4478-a1ab-a4dd3f9d54bb",
   "metadata": {},
   "outputs": [],
   "source": [
    "for layer, dim, size in zip(model.model.layers, model.model.feature_extractor.out_dims, model.model.feature_extractor.out_sizes):\n",
    "    print(f\"{layer} [dim:{dim}, size:{size}]\")"
   ]
  },
  {
   "cell_type": "markdown",
   "id": "0442db5f-9f00-400d-8b2e-1749e9607655",
   "metadata": {},
   "source": [
    "## Appendix"
   ]
  },
  {
   "cell_type": "code",
   "execution_count": null,
   "id": "d587e870-9410-4996-a041-a09243517192",
   "metadata": {},
   "outputs": [],
   "source": [
    "# import timm"
   ]
  },
  {
   "cell_type": "code",
   "execution_count": null,
   "id": "dcfe8313-434d-4c93-b3c3-4234bb11156a",
   "metadata": {},
   "outputs": [],
   "source": [
    "# timm.create_model(\n",
    "#     \"efficientnet_b5\",\n",
    "#     pretrained=True,\n",
    "#     features_only=True,\n",
    "#     exportable=True,\n",
    "# )"
   ]
  },
  {
   "cell_type": "code",
   "execution_count": null,
   "id": "214a92b1-e088-454c-8edd-075223ee8fe9",
   "metadata": {},
   "outputs": [],
   "source": [
    "# timm.list_models(pretrained=True)"
   ]
  },
  {
   "cell_type": "code",
   "execution_count": null,
   "id": "e35b309f-bc98-4af5-b388-d79cfdfeff9f",
   "metadata": {},
   "outputs": [],
   "source": []
  }
 ],
 "metadata": {
  "kernelspec": {
   "display_name": "Python 3 (ipykernel)",
   "language": "python",
   "name": "python3"
  },
  "language_info": {
   "codemirror_mode": {
    "name": "ipython",
    "version": 3
   },
   "file_extension": ".py",
   "mimetype": "text/x-python",
   "name": "python",
   "nbconvert_exporter": "python",
   "pygments_lexer": "ipython3",
   "version": "3.10.12"
  }
 },
 "nbformat": 4,
 "nbformat_minor": 5
}
